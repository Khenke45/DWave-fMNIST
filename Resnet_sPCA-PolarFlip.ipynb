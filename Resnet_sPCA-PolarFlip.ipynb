{
 "cells": [
  {
   "cell_type": "code",
   "execution_count": 22,
   "metadata": {},
   "outputs": [],
   "source": [
    "from __future__ import print_function\n",
    "import keras\n",
    "from keras.layers import Dense, Conv2D, BatchNormalization, Activation\n",
    "from keras.layers import MaxPooling2D, AveragePooling2D, Input, Flatten\n",
    "from keras.optimizers import Adam\n",
    "from keras.callbacks import ModelCheckpoint, ReduceLROnPlateau\n",
    "from keras.preprocessing.image import ImageDataGenerator\n",
    "from keras.regularizers import l2\n",
    "from keras import backend as K\n",
    "from keras.models import Model\n",
    "import numpy as np\n",
    "import os\n",
    "import pandas as pd\n",
    "import matplotlib.pyplot as plt\n",
    "import numpy as np\n",
    "import scipy.io as sio\n",
    "from scipy.stats import ortho_group\n",
    "from sklearn.svm import SVC \n",
    "import math \n",
    "import random\n",
    "from numpy import linalg as LA\n",
    "from sklearn.model_selection import train_test_split\n",
    "from sklearn.model_selection import cross_val_score\n",
    "from sklearn import svm\n",
    "from sklearn.neural_network import MLPClassifier\n",
    "import pandas as pd\n",
    "from sklearn.linear_model import orthogonal_mp\n",
    "from sklearn.ensemble import RandomForestClassifier\n",
    "%matplotlib inline"
   ]
  },
  {
   "cell_type": "code",
   "execution_count": 2,
   "metadata": {},
   "outputs": [
    {
     "name": "stdout",
     "output_type": "stream",
     "text": [
      "C:\\Users\\khenk\\Desktop\\LANL\\AFRL-DISC Data\\Blackbox brief for LANL\n"
     ]
    }
   ],
   "source": [
    "cd Desktop/LANL/AFRL-DISC Data/Blackbox brief for LANL"
   ]
  },
  {
   "cell_type": "code",
   "execution_count": 3,
   "metadata": {},
   "outputs": [],
   "source": [
    "#binary spca components\n",
    "#Load sPCA Dictionary from found sPCA components\n",
    "mat = sio.loadmat('sPCA_Phi.mat')\n",
    "sPCA_Phi = mat['sPCA_Phi']\n",
    "\n",
    "sPCA= pd.read_csv('sPCA_32.csv', sep=',', encoding = 'utf8')\n",
    "data = sPCA.values\n",
    "data= np.dot(data,sPCA_Phi)\n",
    "\n",
    "# data = np.load('Repatched_Dwave_Data_7x7.npy')\n",
    "# data = data.reshape(len(data),28*28)\n",
    "# mat = sio.loadmat('data_binned.mat')\n",
    "# data_binned = np.asarray(mat['data_binned'])\n",
    "# data_binned = np.dot(data_binned,sPCA_Phi)\n",
    "#data_binned = np.reshape(len(data_binned),)"
   ]
  },
  {
   "cell_type": "code",
   "execution_count": 4,
   "metadata": {},
   "outputs": [],
   "source": [
    "mat = sio.loadmat('fMnist_ytrainlabels.mat')\n",
    "Y_train = np.squeeze(np.asarray(mat['y_train'].T))\n",
    "mat = sio.loadmat('fMnist_ytestlabels.mat')\n",
    "Y_test = np.squeeze(np.asarray(mat['y_test'].T))"
   ]
  },
  {
   "cell_type": "code",
   "execution_count": 5,
   "metadata": {},
   "outputs": [],
   "source": [
    "X_train = data[0:len(Y_train)]\n",
    "X_test = data[len(Y_train):len(data)]"
   ]
  },
  {
   "cell_type": "code",
   "execution_count": 6,
   "metadata": {},
   "outputs": [],
   "source": [
    "data = data.reshape(len(data),28*28)"
   ]
  },
  {
   "cell_type": "code",
   "execution_count": 7,
   "metadata": {},
   "outputs": [],
   "source": [
    "data1 = data*(-1)\n",
    "data1 = data1.reshape(len(data1),28,28)\n",
    "data = data.reshape(len(data),28,28)\n",
    "X_train = data[0:len(Y_train)]\n",
    "X_test = data[len(Y_train):len(data)]\n",
    "X_train1 = data1[0:len(Y_train)]\n",
    "X_test1 = data1[len(Y_train):len(data)]"
   ]
  },
  {
   "cell_type": "code",
   "execution_count": 8,
   "metadata": {},
   "outputs": [],
   "source": [
    "X_train_final = np.concatenate((X_train,X_train1))\n",
    "X_test_final = np.concatenate((X_test,X_test1))"
   ]
  },
  {
   "cell_type": "code",
   "execution_count": 9,
   "metadata": {},
   "outputs": [],
   "source": [
    "Y_train1 = Y_train\n",
    "Y_test1 = Y_test"
   ]
  },
  {
   "cell_type": "code",
   "execution_count": 10,
   "metadata": {},
   "outputs": [],
   "source": [
    "Y_train = np.concatenate((Y_train,Y_train1))\n",
    "Y_test = np.concatenate((Y_test,Y_test1))"
   ]
  },
  {
   "cell_type": "code",
   "execution_count": 11,
   "metadata": {},
   "outputs": [
    {
     "name": "stdout",
     "output_type": "stream",
     "text": [
      "(20000, 28, 28) (120000, 28, 28)\n"
     ]
    }
   ],
   "source": [
    "\n",
    "X_train = X_train_final\n",
    "X_test = X_test_final\n",
    "print(X_test.shape, X_train.shape)"
   ]
  },
  {
   "cell_type": "code",
   "execution_count": 5,
   "metadata": {},
   "outputs": [],
   "source": [
    "np.save('fMNIST_Training_Labels',Y_train)\n",
    "np.save('fMNIST_Test_Labels',Y_test)"
   ]
  },
  {
   "cell_type": "code",
   "execution_count": 23,
   "metadata": {},
   "outputs": [],
   "source": [
    "X_train = X_train.reshape(len(X_train),28*28)\n",
    "X_test = X_test.reshape(len(X_test),28*28)"
   ]
  },
  {
   "cell_type": "code",
   "execution_count": 24,
   "metadata": {},
   "outputs": [
    {
     "data": {
      "text/plain": [
       "0.7724"
      ]
     },
     "execution_count": 24,
     "metadata": {},
     "output_type": "execute_result"
    }
   ],
   "source": [
    "#Get Random Forest Reference Solution\n",
    "clf = RandomForestClassifier(n_estimators=100, max_depth = 10, random_state = 1)\n",
    "clf.fit(X_train,Y_train)\n",
    "clf.score(X_test,Y_test)"
   ]
  },
  {
   "cell_type": "code",
   "execution_count": null,
   "metadata": {},
   "outputs": [],
   "source": [
    "X_train = X_train_final\n",
    "X_test = X_test_final\n",
    "print(X_test.shape, X_train.shape)"
   ]
  },
  {
   "cell_type": "code",
   "execution_count": 12,
   "metadata": {},
   "outputs": [
    {
     "name": "stdout",
     "output_type": "stream",
     "text": [
      "[0, 1, 3, 5, 10000, 10001, 10003, 10005]\n"
     ]
    },
    {
     "data": {
      "image/png": "[encoded data removed]",
      "text/plain": [
       "<Figure size 432x288 with 8 Axes>"
      ]
     },
     "metadata": {
      "needs_background": "light"
     },
     "output_type": "display_data"
    }
   ],
   "source": [
    "#lets visualize few images \n",
    "sample = np.random.randint(0,high= 59999, size=8)\n",
    "sample = [0,1,3,5,10000,10001,10003, 10005]\n",
    "print(sample)\n",
    "sample_img = X_test[sample, :]\n",
    "sample_label = Y_test[sample]\n",
    "for i , img in enumerate(sample_img):\n",
    "    plt.subplot(2,4,i+1)\n",
    "    plt.axis(\"off\")\n",
    "    plt.title(sample_label[i])\n",
    "    img = img.reshape(28,28)\n",
    "    plt.imshow(img, cmap = 'gray')\n",
    "plt.show()"
   ]
  },
  {
   "cell_type": "code",
   "execution_count": 13,
   "metadata": {},
   "outputs": [],
   "source": [
    "#Defining constants\n",
    "epochs = 30\n",
    "batch_size = 100\n",
    "data_augmentation = False\n",
    "img_size = 28\n",
    "\n",
    "num_classes = 10\n",
    "num_filters = 64\n",
    "num_blocks = 4\n",
    "num_sub_blocks = 2\n",
    "use_max_pool = False"
   ]
  },
  {
   "cell_type": "code",
   "execution_count": 14,
   "metadata": {},
   "outputs": [
    {
     "name": "stdout",
     "output_type": "stream",
     "text": [
      "x_train shape: (120000, 28, 28, 1)\n",
      "120000 train samples\n",
      "20000 test samples\n",
      "Y_train shape: (120000,)\n"
     ]
    }
   ],
   "source": [
    "x_train = X_train.reshape(X_train.shape[0],img_size,img_size,1)\n",
    "x_test = X_test.reshape(X_test.shape[0],img_size,img_size,1)\n",
    "input_size = (img_size, img_size,1)\n",
    "# Normalize data.\n",
    "x_train = x_train.astype('float32') / 255\n",
    "x_test = x_test.astype('float32') / 255\n",
    "print('x_train shape:', x_train.shape)\n",
    "print(x_train.shape[0], 'train samples')\n",
    "print(x_test.shape[0], 'test samples')\n",
    "print('Y_train shape:', Y_train.shape)\n",
    "\n",
    "#Converting labels to one-hot vectors\n",
    "y_train = keras.utils.to_categorical(Y_train, num_classes)\n",
    "y_test = keras.utils.to_categorical(Y_test,num_classes)"
   ]
  },
  {
   "cell_type": "code",
   "execution_count": 15,
   "metadata": {},
   "outputs": [
    {
     "name": "stdout",
     "output_type": "stream",
     "text": [
      "WARNING:tensorflow:From C:\\Users\\khenk\\AppData\\Local\\Continuum\\anaconda3\\lib\\site-packages\\tensorflow\\python\\framework\\op_def_library.py:263: colocate_with (from tensorflow.python.framework.ops) is deprecated and will be removed in a future version.\n",
      "Instructions for updating:\n",
      "Colocations handled automatically by placer.\n",
      "__________________________________________________________________________________________________\n",
      "Layer (type)                    Output Shape         Param #     Connected to                     \n",
      "==================================================================================================\n",
      "input_1 (InputLayer)            (None, 28, 28, 1)    0                                            \n",
      "__________________________________________________________________________________________________\n",
      "conv2d_1 (Conv2D)               (None, 14, 14, 64)   3200        input_1[0][0]                    \n",
      "__________________________________________________________________________________________________\n",
      "batch_normalization_1 (BatchNor (None, 14, 14, 64)   256         conv2d_1[0][0]                   \n",
      "__________________________________________________________________________________________________\n",
      "activation_1 (Activation)       (None, 14, 14, 64)   0           batch_normalization_1[0][0]      \n",
      "__________________________________________________________________________________________________\n",
      "conv2d_2 (Conv2D)               (None, 14, 14, 64)   36928       activation_1[0][0]               \n",
      "__________________________________________________________________________________________________\n",
      "batch_normalization_2 (BatchNor (None, 14, 14, 64)   256         conv2d_2[0][0]                   \n",
      "__________________________________________________________________________________________________\n",
      "activation_2 (Activation)       (None, 14, 14, 64)   0           batch_normalization_2[0][0]      \n",
      "__________________________________________________________________________________________________\n",
      "conv2d_3 (Conv2D)               (None, 14, 14, 64)   36928       activation_2[0][0]               \n",
      "__________________________________________________________________________________________________\n",
      "batch_normalization_3 (BatchNor (None, 14, 14, 64)   256         conv2d_3[0][0]                   \n",
      "__________________________________________________________________________________________________\n",
      "add_1 (Add)                     (None, 14, 14, 64)   0           activation_1[0][0]               \n",
      "                                                                 batch_normalization_3[0][0]      \n",
      "__________________________________________________________________________________________________\n",
      "activation_3 (Activation)       (None, 14, 14, 64)   0           add_1[0][0]                      \n",
      "__________________________________________________________________________________________________\n",
      "conv2d_4 (Conv2D)               (None, 14, 14, 64)   36928       activation_3[0][0]               \n",
      "__________________________________________________________________________________________________\n",
      "batch_normalization_4 (BatchNor (None, 14, 14, 64)   256         conv2d_4[0][0]                   \n",
      "__________________________________________________________________________________________________\n",
      "activation_4 (Activation)       (None, 14, 14, 64)   0           batch_normalization_4[0][0]      \n",
      "__________________________________________________________________________________________________\n",
      "conv2d_5 (Conv2D)               (None, 14, 14, 64)   36928       activation_4[0][0]               \n",
      "__________________________________________________________________________________________________\n",
      "batch_normalization_5 (BatchNor (None, 14, 14, 64)   256         conv2d_5[0][0]                   \n",
      "__________________________________________________________________________________________________\n",
      "add_2 (Add)                     (None, 14, 14, 64)   0           activation_3[0][0]               \n",
      "                                                                 batch_normalization_5[0][0]      \n",
      "__________________________________________________________________________________________________\n",
      "activation_5 (Activation)       (None, 14, 14, 64)   0           add_2[0][0]                      \n",
      "__________________________________________________________________________________________________\n",
      "conv2d_6 (Conv2D)               (None, 7, 7, 128)    73856       activation_5[0][0]               \n",
      "__________________________________________________________________________________________________\n",
      "batch_normalization_6 (BatchNor (None, 7, 7, 128)    512         conv2d_6[0][0]                   \n",
      "__________________________________________________________________________________________________\n",
      "activation_6 (Activation)       (None, 7, 7, 128)    0           batch_normalization_6[0][0]      \n",
      "__________________________________________________________________________________________________\n",
      "conv2d_7 (Conv2D)               (None, 7, 7, 128)    147584      activation_6[0][0]               \n",
      "__________________________________________________________________________________________________\n",
      "conv2d_8 (Conv2D)               (None, 7, 7, 128)    8320        activation_5[0][0]               \n",
      "__________________________________________________________________________________________________\n",
      "batch_normalization_7 (BatchNor (None, 7, 7, 128)    512         conv2d_7[0][0]                   \n",
      "__________________________________________________________________________________________________\n",
      "add_3 (Add)                     (None, 7, 7, 128)    0           conv2d_8[0][0]                   \n",
      "                                                                 batch_normalization_7[0][0]      \n",
      "__________________________________________________________________________________________________\n",
      "activation_7 (Activation)       (None, 7, 7, 128)    0           add_3[0][0]                      \n",
      "__________________________________________________________________________________________________\n",
      "conv2d_9 (Conv2D)               (None, 7, 7, 128)    147584      activation_7[0][0]               \n",
      "__________________________________________________________________________________________________\n",
      "batch_normalization_8 (BatchNor (None, 7, 7, 128)    512         conv2d_9[0][0]                   \n",
      "__________________________________________________________________________________________________\n",
      "activation_8 (Activation)       (None, 7, 7, 128)    0           batch_normalization_8[0][0]      \n",
      "__________________________________________________________________________________________________\n",
      "conv2d_10 (Conv2D)              (None, 7, 7, 128)    147584      activation_8[0][0]               \n",
      "__________________________________________________________________________________________________\n",
      "batch_normalization_9 (BatchNor (None, 7, 7, 128)    512         conv2d_10[0][0]                  \n",
      "__________________________________________________________________________________________________\n",
      "add_4 (Add)                     (None, 7, 7, 128)    0           activation_7[0][0]               \n",
      "                                                                 batch_normalization_9[0][0]      \n",
      "__________________________________________________________________________________________________\n",
      "activation_9 (Activation)       (None, 7, 7, 128)    0           add_4[0][0]                      \n",
      "__________________________________________________________________________________________________\n",
      "conv2d_11 (Conv2D)              (None, 4, 4, 256)    295168      activation_9[0][0]               \n",
      "__________________________________________________________________________________________________\n",
      "batch_normalization_10 (BatchNo (None, 4, 4, 256)    1024        conv2d_11[0][0]                  \n",
      "__________________________________________________________________________________________________\n",
      "activation_10 (Activation)      (None, 4, 4, 256)    0           batch_normalization_10[0][0]     \n",
      "__________________________________________________________________________________________________\n",
      "conv2d_12 (Conv2D)              (None, 4, 4, 256)    590080      activation_10[0][0]              \n",
      "__________________________________________________________________________________________________\n",
      "conv2d_13 (Conv2D)              (None, 4, 4, 256)    33024       activation_9[0][0]               \n",
      "__________________________________________________________________________________________________\n",
      "batch_normalization_11 (BatchNo (None, 4, 4, 256)    1024        conv2d_12[0][0]                  \n",
      "__________________________________________________________________________________________________\n",
      "add_5 (Add)                     (None, 4, 4, 256)    0           conv2d_13[0][0]                  \n",
      "                                                                 batch_normalization_11[0][0]     \n",
      "__________________________________________________________________________________________________\n",
      "activation_11 (Activation)      (None, 4, 4, 256)    0           add_5[0][0]                      \n",
      "__________________________________________________________________________________________________\n",
      "conv2d_14 (Conv2D)              (None, 4, 4, 256)    590080      activation_11[0][0]              \n",
      "__________________________________________________________________________________________________\n",
      "batch_normalization_12 (BatchNo (None, 4, 4, 256)    1024        conv2d_14[0][0]                  \n",
      "__________________________________________________________________________________________________\n",
      "activation_12 (Activation)      (None, 4, 4, 256)    0           batch_normalization_12[0][0]     \n",
      "__________________________________________________________________________________________________\n",
      "conv2d_15 (Conv2D)              (None, 4, 4, 256)    590080      activation_12[0][0]              \n",
      "__________________________________________________________________________________________________\n",
      "batch_normalization_13 (BatchNo (None, 4, 4, 256)    1024        conv2d_15[0][0]                  \n",
      "__________________________________________________________________________________________________\n",
      "add_6 (Add)                     (None, 4, 4, 256)    0           activation_11[0][0]              \n",
      "                                                                 batch_normalization_13[0][0]     \n",
      "__________________________________________________________________________________________________\n",
      "activation_13 (Activation)      (None, 4, 4, 256)    0           add_6[0][0]                      \n",
      "__________________________________________________________________________________________________\n",
      "conv2d_16 (Conv2D)              (None, 2, 2, 512)    1180160     activation_13[0][0]              \n",
      "__________________________________________________________________________________________________\n",
      "batch_normalization_14 (BatchNo (None, 2, 2, 512)    2048        conv2d_16[0][0]                  \n",
      "__________________________________________________________________________________________________\n",
      "activation_14 (Activation)      (None, 2, 2, 512)    0           batch_normalization_14[0][0]     \n",
      "__________________________________________________________________________________________________\n",
      "conv2d_17 (Conv2D)              (None, 2, 2, 512)    2359808     activation_14[0][0]              \n",
      "__________________________________________________________________________________________________\n",
      "conv2d_18 (Conv2D)              (None, 2, 2, 512)    131584      activation_13[0][0]              \n",
      "__________________________________________________________________________________________________\n",
      "batch_normalization_15 (BatchNo (None, 2, 2, 512)    2048        conv2d_17[0][0]                  \n",
      "__________________________________________________________________________________________________\n",
      "add_7 (Add)                     (None, 2, 2, 512)    0           conv2d_18[0][0]                  \n",
      "                                                                 batch_normalization_15[0][0]     \n",
      "__________________________________________________________________________________________________\n",
      "activation_15 (Activation)      (None, 2, 2, 512)    0           add_7[0][0]                      \n",
      "__________________________________________________________________________________________________\n",
      "conv2d_19 (Conv2D)              (None, 2, 2, 512)    2359808     activation_15[0][0]              \n",
      "__________________________________________________________________________________________________\n",
      "batch_normalization_16 (BatchNo (None, 2, 2, 512)    2048        conv2d_19[0][0]                  \n",
      "__________________________________________________________________________________________________\n",
      "activation_16 (Activation)      (None, 2, 2, 512)    0           batch_normalization_16[0][0]     \n",
      "__________________________________________________________________________________________________\n",
      "conv2d_20 (Conv2D)              (None, 2, 2, 512)    2359808     activation_16[0][0]              \n",
      "__________________________________________________________________________________________________\n",
      "batch_normalization_17 (BatchNo (None, 2, 2, 512)    2048        conv2d_20[0][0]                  \n",
      "__________________________________________________________________________________________________\n",
      "add_8 (Add)                     (None, 2, 2, 512)    0           activation_15[0][0]              \n",
      "                                                                 batch_normalization_17[0][0]     \n",
      "__________________________________________________________________________________________________\n",
      "activation_17 (Activation)      (None, 2, 2, 512)    0           add_8[0][0]                      \n",
      "__________________________________________________________________________________________________\n",
      "average_pooling2d_1 (AveragePoo (None, 1, 1, 512)    0           activation_17[0][0]              \n",
      "__________________________________________________________________________________________________\n",
      "flatten_1 (Flatten)             (None, 512)          0           average_pooling2d_1[0][0]        \n",
      "__________________________________________________________________________________________________\n",
      "dense_1 (Dense)                 (None, 10)           5130        flatten_1[0][0]                  \n",
      "==================================================================================================\n",
      "Total params: 11,186,186\n",
      "Trainable params: 11,178,378\n",
      "Non-trainable params: 7,808\n",
      "__________________________________________________________________________________________________\n"
     ]
    }
   ],
   "source": [
    "#Creating model based on ResNet published archietecture\n",
    "inputs = Input(shape=input_size)\n",
    "x = Conv2D(num_filters, padding='same', \n",
    "           kernel_initializer='he_normal', \n",
    "           kernel_size=7, strides=2,\n",
    "           kernel_regularizer=l2(1e-4))(inputs)\n",
    "x = BatchNormalization()(x)\n",
    "x = Activation('relu')(x)\n",
    "\n",
    "#Check by applying max pooling later (setting it false as size of image is small i.e. 28x28)\n",
    "if use_max_pool:\n",
    "    x = MaxPooling2D(pool_size=3,padding='same', strides=2)(x)\n",
    "    num_blocks =3\n",
    "#Creating Conv base stack \n",
    "\n",
    "# Instantiate convolutional base (stack of blocks).\n",
    "for i in range(num_blocks):\n",
    "    for j in range(num_sub_blocks):\n",
    "        strides = 1\n",
    "        is_first_layer_but_not_first_block = j == 0 and i > 0\n",
    "        if is_first_layer_but_not_first_block:\n",
    "            strides = 2\n",
    "        #Creating residual mapping using y\n",
    "        y = Conv2D(num_filters,\n",
    "                   kernel_size=3,\n",
    "                   padding='same',\n",
    "                   strides=strides,\n",
    "                   kernel_initializer='he_normal',\n",
    "                   kernel_regularizer=l2(1e-4))(x)\n",
    "        y = BatchNormalization()(y)\n",
    "        y = Activation('relu')(y)\n",
    "        y = Conv2D(num_filters,\n",
    "                   kernel_size=3,\n",
    "                   padding='same',\n",
    "                   kernel_initializer='he_normal',\n",
    "                   kernel_regularizer=l2(1e-4))(y)\n",
    "        y = BatchNormalization()(y)\n",
    "        if is_first_layer_but_not_first_block:\n",
    "            x = Conv2D(num_filters,\n",
    "                       kernel_size=1,\n",
    "                       padding='same',\n",
    "                       strides=2,\n",
    "                       kernel_initializer='he_normal',\n",
    "                       kernel_regularizer=l2(1e-4))(x)\n",
    "        #Adding back residual mapping\n",
    "        x = keras.layers.add([x, y])\n",
    "        x = Activation('relu')(x)\n",
    "\n",
    "    num_filters = 2 * num_filters\n",
    "\n",
    "# Add classifier on top.\n",
    "x = AveragePooling2D()(x)\n",
    "y = Flatten()(x)\n",
    "outputs = Dense(num_classes,\n",
    "                activation='softmax',\n",
    "                kernel_initializer='he_normal')(y)\n",
    "\n",
    "# Instantiate and compile model.\n",
    "model = Model(inputs=inputs, outputs=outputs)\n",
    "model.compile(loss='categorical_crossentropy',\n",
    "              optimizer=Adam(),\n",
    "              metrics=['accuracy'])\n",
    "model.summary()"
   ]
  },
  {
   "cell_type": "code",
   "execution_count": 16,
   "metadata": {},
   "outputs": [
    {
     "name": "stdout",
     "output_type": "stream",
     "text": [
      "C:\\Users\\khenk\\Desktop\\LANL\\AFRL-DISC Data\\Blackbox brief for LANL\\saved_model\\fmnist_resnet_model_sPCA_Polar.h5\n"
     ]
    }
   ],
   "source": [
    "save_dir = os.path.join(os.getcwd(), 'saved_model')\n",
    "model_name = 'fmnist_resnet_model_sPCA_Polar.h5'\n",
    "if not os.path.isdir(save_dir):\n",
    "    os.makedirs(save_dir)\n",
    "filepath = os.path.join(save_dir,model_name)\n",
    "print(filepath)"
   ]
  },
  {
   "cell_type": "code",
   "execution_count": 17,
   "metadata": {},
   "outputs": [],
   "source": [
    "# Prepare callbacks for model saving and for learning rate decaying.\n",
    "checkpoint = ModelCheckpoint(filepath=filepath,\n",
    "                             verbose=1,\n",
    "                             save_best_only=True)\n",
    "lr_reducer = ReduceLROnPlateau(factor=np.sqrt(0.1),\n",
    "                               cooldown=0,\n",
    "                               patience=5,\n",
    "                               min_lr=0.5e-6)\n",
    "callbacks = [checkpoint, lr_reducer]"
   ]
  },
  {
   "cell_type": "code",
   "execution_count": 18,
   "metadata": {},
   "outputs": [
    {
     "name": "stdout",
     "output_type": "stream",
     "text": [
      "Not using data augmentation.\n",
      "WARNING:tensorflow:From C:\\Users\\khenk\\AppData\\Local\\Continuum\\anaconda3\\lib\\site-packages\\tensorflow\\python\\ops\\math_ops.py:3066: to_int32 (from tensorflow.python.ops.math_ops) is deprecated and will be removed in a future version.\n",
      "Instructions for updating:\n",
      "Use tf.cast instead.\n",
      "Train on 120000 samples, validate on 20000 samples\n",
      "Epoch 1/30\n",
      "120000/120000 [==============================] - 6539s 54ms/step - loss: 1.1327 - acc: 0.8266 - val_loss: 14.9119 - val_acc: 0.1000\n",
      "\n",
      "Epoch 00001: val_loss improved from inf to 14.91191, saving model to C:\\Users\\khenk\\Desktop\\LANL\\AFRL-DISC Data\\Blackbox brief for LANL\\saved_model\\fmnist_resnet_model_sPCA_Polar.h5\n",
      "Epoch 2/30\n",
      "120000/120000 [==============================] - 6823s 57ms/step - loss: 0.6708 - acc: 0.8672 - val_loss: 10.8773 - val_acc: 0.1121\n",
      "\n",
      "Epoch 00002: val_loss improved from 14.91191 to 10.87732, saving model to C:\\Users\\khenk\\Desktop\\LANL\\AFRL-DISC Data\\Blackbox brief for LANL\\saved_model\\fmnist_resnet_model_sPCA_Polar.h5\n",
      "Epoch 3/30\n",
      "120000/120000 [==============================] - 6851s 57ms/step - loss: 0.5470 - acc: 0.8784 - val_loss: 2.2770 - val_acc: 0.3235\n",
      "\n",
      "Epoch 00003: val_loss improved from 10.87732 to 2.27699, saving model to C:\\Users\\khenk\\Desktop\\LANL\\AFRL-DISC Data\\Blackbox brief for LANL\\saved_model\\fmnist_resnet_model_sPCA_Polar.h5\n",
      "Epoch 4/30\n",
      "120000/120000 [==============================] - 6919s 58ms/step - loss: 0.5399 - acc: 0.8800 - val_loss: 14.6977 - val_acc: 0.1000\n",
      "\n",
      "Epoch 00004: val_loss did not improve from 2.27699\n",
      "Epoch 5/30\n",
      "120000/120000 [==============================] - 6697s 56ms/step - loss: 0.4564 - acc: 0.8910 - val_loss: 14.6608 - val_acc: 0.1000\n",
      "\n",
      "Epoch 00005: val_loss did not improve from 2.27699\n",
      "Epoch 6/30\n",
      "120000/120000 [==============================] - 6705s 56ms/step - loss: 0.4884 - acc: 0.8911 - val_loss: 6.6344 - val_acc: 0.1378\n",
      "\n",
      "Epoch 00006: val_loss did not improve from 2.27699\n",
      "Epoch 7/30\n",
      "120000/120000 [==============================] - 6804s 57ms/step - loss: 0.8592 - acc: 0.8388 - val_loss: 3.2592 - val_acc: 0.3219\n",
      "\n",
      "Epoch 00007: val_loss did not improve from 2.27699\n",
      "Epoch 8/30\n",
      "120000/120000 [==============================] - 6857s 57ms/step - loss: 0.6608 - acc: 0.8817 - val_loss: 1.6988 - val_acc: 0.5423\n",
      "\n",
      "Epoch 00008: val_loss improved from 2.27699 to 1.69884, saving model to C:\\Users\\khenk\\Desktop\\LANL\\AFRL-DISC Data\\Blackbox brief for LANL\\saved_model\\fmnist_resnet_model_sPCA_Polar.h5\n",
      "Epoch 9/30\n",
      "120000/120000 [==============================] - 7001s 58ms/step - loss: 0.5637 - acc: 0.8963 - val_loss: 1.4703 - val_acc: 0.5920\n",
      "\n",
      "Epoch 00009: val_loss improved from 1.69884 to 1.47032, saving model to C:\\Users\\khenk\\Desktop\\LANL\\AFRL-DISC Data\\Blackbox brief for LANL\\saved_model\\fmnist_resnet_model_sPCA_Polar.h5\n",
      "Epoch 10/30\n",
      "120000/120000 [==============================] - 7107s 59ms/step - loss: 0.5054 - acc: 0.9039 - val_loss: 6.5928 - val_acc: 0.1892\n",
      "\n",
      "Epoch 00010: val_loss did not improve from 1.47032\n",
      "Epoch 11/30\n",
      "120000/120000 [==============================] - 7065s 59ms/step - loss: 0.4858 - acc: 0.9077 - val_loss: 1.2229 - val_acc: 0.6596\n",
      "\n",
      "Epoch 00011: val_loss improved from 1.47032 to 1.22286, saving model to C:\\Users\\khenk\\Desktop\\LANL\\AFRL-DISC Data\\Blackbox brief for LANL\\saved_model\\fmnist_resnet_model_sPCA_Polar.h5\n",
      "Epoch 12/30\n",
      "120000/120000 [==============================] - 7012s 58ms/step - loss: 0.4422 - acc: 0.9126 - val_loss: 2.2398 - val_acc: 0.2939\n",
      "\n",
      "Epoch 00012: val_loss did not improve from 1.22286\n",
      "Epoch 13/30\n",
      "120000/120000 [==============================] - 7014s 58ms/step - loss: 0.4057 - acc: 0.9177 - val_loss: 12.7869 - val_acc: 0.1061\n",
      "\n",
      "Epoch 00013: val_loss did not improve from 1.22286\n",
      "Epoch 14/30\n",
      "120000/120000 [==============================] - 7525s 63ms/step - loss: 0.3880 - acc: 0.9199 - val_loss: 3.3724 - val_acc: 0.1520\n",
      "\n",
      "Epoch 00014: val_loss did not improve from 1.22286\n",
      "Epoch 15/30\n",
      "120000/120000 [==============================] - 7484s 62ms/step - loss: 0.3813 - acc: 0.9221 - val_loss: 14.7071 - val_acc: 0.1000\n",
      "\n",
      "Epoch 00015: val_loss did not improve from 1.22286\n",
      "Epoch 16/30\n",
      "120000/120000 [==============================] - 7143s 60ms/step - loss: 0.3819 - acc: 0.9233 - val_loss: 6.7877 - val_acc: 0.1103\n",
      "\n",
      "Epoch 00016: val_loss did not improve from 1.22286\n",
      "Epoch 17/30\n",
      "120000/120000 [==============================] - 6943s 58ms/step - loss: 0.2835 - acc: 0.9544 - val_loss: 0.6797 - val_acc: 0.8273\n",
      "\n",
      "Epoch 00017: val_loss improved from 1.22286 to 0.67971, saving model to C:\\Users\\khenk\\Desktop\\LANL\\AFRL-DISC Data\\Blackbox brief for LANL\\saved_model\\fmnist_resnet_model_sPCA_Polar.h5\n",
      "Epoch 18/30\n",
      "120000/120000 [==============================] - 6892s 57ms/step - loss: 0.2260 - acc: 0.9685 - val_loss: 0.9755 - val_acc: 0.7565\n",
      "\n",
      "Epoch 00018: val_loss did not improve from 0.67971\n",
      "Epoch 19/30\n",
      "120000/120000 [==============================] - 6894s 57ms/step - loss: 0.1950 - acc: 0.9755 - val_loss: 1.0417 - val_acc: 0.7495\n",
      "\n",
      "Epoch 00019: val_loss did not improve from 0.67971\n",
      "Epoch 20/30\n",
      "120000/120000 [==============================] - 7349s 61ms/step - loss: 0.1807 - acc: 0.9794 - val_loss: 2.7007 - val_acc: 0.3735\n",
      "\n",
      "Epoch 00020: val_loss did not improve from 0.67971\n",
      "Epoch 21/30\n",
      "120000/120000 [==============================] - 7801s 65ms/step - loss: 0.1723 - acc: 0.9817 - val_loss: 0.9610 - val_acc: 0.7900\n",
      "\n",
      "Epoch 00021: val_loss did not improve from 0.67971\n",
      "Epoch 22/30\n",
      "120000/120000 [==============================] - 7144s 60ms/step - loss: 0.1559 - acc: 0.9846 - val_loss: 0.9772 - val_acc: 0.7795\n",
      "\n",
      "Epoch 00022: val_loss did not improve from 0.67971\n",
      "Epoch 23/30\n",
      "120000/120000 [==============================] - 7205s 60ms/step - loss: 0.1217 - acc: 0.9965 - val_loss: 0.7757 - val_acc: 0.8781\n",
      "\n",
      "Epoch 00023: val_loss did not improve from 0.67971\n",
      "Epoch 24/30\n",
      "120000/120000 [==============================] - 7358s 61ms/step - loss: 0.1086 - acc: 0.9986 - val_loss: 0.8330 - val_acc: 0.8744\n",
      "\n",
      "Epoch 00024: val_loss did not improve from 0.67971\n",
      "Epoch 25/30\n",
      "120000/120000 [==============================] - 7225s 60ms/step - loss: 0.1038 - acc: 0.9982 - val_loss: 0.8461 - val_acc: 0.8764\n",
      "\n",
      "Epoch 00025: val_loss did not improve from 0.67971\n",
      "Epoch 26/30\n",
      "120000/120000 [==============================] - 7168s 60ms/step - loss: 0.0974 - acc: 0.9987 - val_loss: 0.8375 - val_acc: 0.8812\n",
      "\n",
      "Epoch 00026: val_loss did not improve from 0.67971\n",
      "Epoch 27/30\n",
      "120000/120000 [==============================] - 7131s 59ms/step - loss: 0.0931 - acc: 0.9984 - val_loss: 0.9022 - val_acc: 0.8733\n",
      "\n",
      "Epoch 00027: val_loss did not improve from 0.67971\n",
      "Epoch 28/30\n",
      "120000/120000 [==============================] - 6954s 58ms/step - loss: 0.0863 - acc: 0.9996 - val_loss: 0.9480 - val_acc: 0.8834\n",
      "\n",
      "Epoch 00028: val_loss did not improve from 0.67971\n",
      "Epoch 29/30\n",
      "120000/120000 [==============================] - 6845s 57ms/step - loss: 0.0827 - acc: 1.0000 - val_loss: 1.0517 - val_acc: 0.8827\n",
      "\n",
      "Epoch 00029: val_loss did not improve from 0.67971\n",
      "Epoch 30/30\n",
      "120000/120000 [==============================] - 6897s 57ms/step - loss: 0.0801 - acc: 0.9999 - val_loss: 0.9934 - val_acc: 0.8832\n",
      "\n",
      "Epoch 00030: val_loss did not improve from 0.67971\n"
     ]
    }
   ],
   "source": [
    "if not data_augmentation:\n",
    "    print('Not using data augmentation.')\n",
    "    \n",
    "    model.fit(x_train, y_train,\n",
    "              batch_size=batch_size,\n",
    "              epochs=30,\n",
    "              validation_data=(x_test, y_test),\n",
    "              shuffle=True,\n",
    "              callbacks=callbacks)"
   ]
  },
  {
   "cell_type": "code",
   "execution_count": 19,
   "metadata": {},
   "outputs": [
    {
     "name": "stdout",
     "output_type": "stream",
     "text": [
      "20000/20000 [==============================] - 129s 6ms/step\n",
      "Test loss: 0.993353442955017\n",
      "Test accuracy: 0.88325\n"
     ]
    }
   ],
   "source": [
    "scores = model.evaluate(x_test, y_test, verbose=1)\n",
    "print('Test loss:', scores[0])\n",
    "print('Test accuracy:', scores[1])"
   ]
  },
  {
   "cell_type": "code",
   "execution_count": null,
   "metadata": {},
   "outputs": [],
   "source": [
    "\n",
    "\n",
    "scores"
   ]
  },
  {
   "cell_type": "code",
   "execution_count": null,
   "metadata": {},
   "outputs": [],
   "source": []
  }
 ],
 "metadata": {
  "kernelspec": {
   "display_name": "Python 3",
   "language": "python",
   "name": "python3"
  },
  "language_info": {
   "codemirror_mode": {
    "name": "ipython",
    "version": 3
   },
   "file_extension": ".py",
   "mimetype": "text/x-python",
   "name": "python",
   "nbconvert_exporter": "python",
   "pygments_lexer": "ipython3",
   "version": "3.6.8"
  }
 },
 "nbformat": 4,
 "nbformat_minor": 2
}
